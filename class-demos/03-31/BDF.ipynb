{
 "cells": [
  {
   "cell_type": "markdown",
   "metadata": {},
   "source": [
    "# Backward Differentiation Formula\n"
   ]
  },
  {
   "cell_type": "code",
   "execution_count": 1,
   "metadata": {},
   "outputs": [
    {
     "name": "stderr",
     "output_type": "stream",
     "text": [
      "\u001b[32m\u001b[1m Activating\u001b[22m\u001b[39m environment at `~/Documents/2020examples/class-demos/03-31/Project.toml`\n"
     ]
    }
   ],
   "source": [
    "using Pkg\n",
    "Pkg.activate(\".\")\n",
    "using SymPy"
   ]
  },
  {
   "cell_type": "markdown",
   "metadata": {},
   "source": [
    "Now let's make up some variables in a similar way to the Adams Methods"
   ]
  },
  {
   "cell_type": "code",
   "execution_count": 2,
   "metadata": {},
   "outputs": [],
   "source": [
    "x1, x2, x3, x4, x5, x6, x7, x8 = symbols(\"x1, x2, x3, x4, x5, x6, x7, x8\")\n",
    "t1, t2, t3, t4, t5, t6, t7, t8 = symbols(\"t1, t2, t3, t4, t5, t6, t7, t8\")\n",
    "t = symbols(\"t\")\n",
    "X = [x1,x2,x3,x4,x5,x6,x7,x8]\n",
    "T = [t1,t2,t3,t4,t5,t6,t7,t8]\n",
    "f = symbols(\"f\")\n",
    "h = symbols(\"h\")\n",
    "\n",
    "function l(t,j,k)\n",
    "    l = 1\n",
    "    for m in 1:k\n",
    "        if m != j\n",
    "            l *= ( t - T[m] )/( T[j] - T[m] )\n",
    "        end        \n",
    "    end\n",
    "    return l\n",
    "end\n",
    ";"
   ]
  },
  {
   "cell_type": "markdown",
   "metadata": {},
   "source": [
    "This time we interpolate the $x$ values, instead of the $f(x)$ values.  Then\n",
    "$$ x(t) \\approx p(t) =  \\sum_{j=0}^{k} x_j \\ell_j(t)$$\n",
    "So $\\dot x \\approx \\frac{d p}{dt} $, where we simply differentiate $p$ as\n",
    "$$ \\frac{dp}{dt}  = \\sum_{j=0}^{k} x_j \\frac{d \\ell_j(t)}{dt} $$\n",
    "Putting this back into the differential equation\n",
    "$$ \\dot x = f(x) $$\n",
    "gives the discrete equation for the next time step\n",
    "$$ \\left.\\frac{dp}{dt}\\right|_{t_{i+1}} = f(x_{i+1}) $$ "
   ]
  },
  {
   "cell_type": "code",
   "execution_count": 3,
   "metadata": {},
   "outputs": [
    {
     "data": {
      "text/latex": [
       "\\begin{equation*}\\frac{x_{1} \\left(t - t_{2}\\right) \\left(t - t_{3}\\right)}{\\left(t_{1} - t_{2}\\right) \\left(t_{1} - t_{3}\\right)} + \\frac{x_{2} \\left(t - t_{1}\\right) \\left(t - t_{3}\\right)}{\\left(- t_{1} + t_{2}\\right) \\left(t_{2} - t_{3}\\right)} + \\frac{x_{3} \\left(t - t_{1}\\right) \\left(t - t_{2}\\right)}{\\left(- t_{1} + t_{3}\\right) \\left(- t_{2} + t_{3}\\right)}\\end{equation*}"
      ],
      "text/plain": [
       "x₁⋅(t - t₂)⋅(t - t₃)   x₂⋅(t - t₁)⋅(t - t₃)    x₃⋅(t - t₁)⋅(t - t₂)\n",
       "──────────────────── + ──────────────────── + ─────────────────────\n",
       "(t₁ - t₂)⋅(t₁ - t₃)    (-t₁ + t₂)⋅(t₂ - t₃)   (-t₁ + t₃)⋅(-t₂ + t₃)"
      ]
     },
     "execution_count": 3,
     "metadata": {},
     "output_type": "execute_result"
    }
   ],
   "source": [
    "n = 3\n",
    "P = [ X[i]*l(t, i, n) for i in 1:n ] |> sum"
   ]
  },
  {
   "cell_type": "code",
   "execution_count": 4,
   "metadata": {},
   "outputs": [
    {
     "data": {
      "text/latex": [
       "\\begin{equation*}\\frac{x_{1} \\left(t - t_{2}\\right)}{\\left(t_{1} - t_{2}\\right) \\left(t_{1} - t_{3}\\right)} + \\frac{x_{1} \\left(t - t_{3}\\right)}{\\left(t_{1} - t_{2}\\right) \\left(t_{1} - t_{3}\\right)} + \\frac{x_{2} \\left(t - t_{1}\\right)}{\\left(- t_{1} + t_{2}\\right) \\left(t_{2} - t_{3}\\right)} + \\frac{x_{2} \\left(t - t_{3}\\right)}{\\left(- t_{1} + t_{2}\\right) \\left(t_{2} - t_{3}\\right)} + \\frac{x_{3} \\left(t - t_{1}\\right)}{\\left(- t_{1} + t_{3}\\right) \\left(- t_{2} + t_{3}\\right)} + \\frac{x_{3} \\left(t - t_{2}\\right)}{\\left(- t_{1} + t_{3}\\right) \\left(- t_{2} + t_{3}\\right)}\\end{equation*}"
      ],
      "text/plain": [
       "    x₁⋅(t - t₂)           x₁⋅(t - t₃)           x₂⋅(t - t₁)            x₂⋅(t -\n",
       "─────────────────── + ─────────────────── + ──────────────────── + ───────────\n",
       "(t₁ - t₂)⋅(t₁ - t₃)   (t₁ - t₂)⋅(t₁ - t₃)   (-t₁ + t₂)⋅(t₂ - t₃)   (-t₁ + t₂)⋅\n",
       "\n",
       " t₃)             x₃⋅(t - t₁)             x₃⋅(t - t₂)     \n",
       "───────── + ───────────────────── + ─────────────────────\n",
       "(t₂ - t₃)   (-t₁ + t₃)⋅(-t₂ + t₃)   (-t₁ + t₃)⋅(-t₂ + t₃)"
      ]
     },
     "execution_count": 4,
     "metadata": {},
     "output_type": "execute_result"
    }
   ],
   "source": [
    "dP = diff(P,t)"
   ]
  },
  {
   "cell_type": "markdown",
   "metadata": {},
   "source": [
    "Again, let's assume that the time step is constant $h$"
   ]
  },
  {
   "cell_type": "code",
   "execution_count": 5,
   "metadata": {},
   "outputs": [
    {
     "data": {
      "text/latex": [
       "\\begin{equation*}\\frac{x_{1} - 4 x_{2} + 3 x_{3}}{2 h}\\end{equation*}"
      ],
      "text/plain": [
       "x₁ - 4⋅x₂ + 3⋅x₃\n",
       "────────────────\n",
       "      2⋅h       "
      ]
     },
     "execution_count": 5,
     "metadata": {},
     "output_type": "execute_result"
    }
   ],
   "source": [
    "dP1 = dP |> subs(t=>T[n]) |>  subs(t2=>t1+h, t3=>t1+2*h, t4=>t1+3*h, t5=>t1+4*h, t6=>t1+5*h, t7=>t1+6*h, t8=>t1+7*h) |> simplify"
   ]
  },
  {
   "cell_type": "markdown",
   "metadata": {},
   "source": [
    "Now we can put this discrete approximation of the derivative back into the differential equation (where the $f = f(x_{i+1},t_{i+1})= f(x_3,t_3)$ "
   ]
  },
  {
   "cell_type": "code",
   "execution_count": 6,
   "metadata": {},
   "outputs": [
    {
     "data": {
      "text/latex": [
       "\\begin{equation*}\\frac{x_{1} - 4 x_{2} + 3 x_{3}}{2 h} = f\\end{equation*}"
      ],
      "text/plain": [
       "x₁ - 4⋅x₂ + 3⋅x₃    \n",
       "──────────────── = f\n",
       "      2⋅h           "
      ]
     },
     "execution_count": 6,
     "metadata": {},
     "output_type": "execute_result"
    }
   ],
   "source": [
    "eq = Eq( dP1, f)"
   ]
  },
  {
   "cell_type": "markdown",
   "metadata": {},
   "source": [
    "Lastly we can solve this system for $x_3$"
   ]
  },
  {
   "cell_type": "code",
   "execution_count": 7,
   "metadata": {},
   "outputs": [
    {
     "data": {
      "text/latex": [
       "\\begin{equation*}\\frac{2 f h}{3} - \\frac{x_{1}}{3} + \\frac{4 x_{2}}{3}\\end{equation*}"
      ],
      "text/plain": [
       "2⋅f⋅h   x₁   4⋅x₂\n",
       "───── - ── + ────\n",
       "  3     3     3  "
      ]
     },
     "execution_count": 7,
     "metadata": {},
     "output_type": "execute_result"
    }
   ],
   "source": [
    "solve(eq, X[n] )[1]"
   ]
  },
  {
   "cell_type": "markdown",
   "metadata": {},
   "source": [
    "This gives the right-hand-side of the classic BDF2 formula"
   ]
  },
  {
   "cell_type": "code",
   "execution_count": 8,
   "metadata": {},
   "outputs": [
    {
     "data": {
      "text/latex": [
       "\\begin{equation*}x_{3} = \\frac{2 f h}{3} - \\frac{x_{1}}{3} + \\frac{4 x_{2}}{3}\\end{equation*}"
      ],
      "text/plain": [
       "     2⋅f⋅h   x₁   4⋅x₂\n",
       "x₃ = ───── - ── + ────\n",
       "       3     3     3  "
      ]
     },
     "execution_count": 8,
     "metadata": {},
     "output_type": "execute_result"
    }
   ],
   "source": [
    "Eq( x3, solve(eq, X[n] )[1] )"
   ]
  },
  {
   "cell_type": "markdown",
   "metadata": {},
   "source": [
    "## variable time step\n",
    "Now I'm going to work with the variable step size methods for the vBDF.jl example"
   ]
  },
  {
   "cell_type": "code",
   "execution_count": 9,
   "metadata": {},
   "outputs": [
    {
     "data": {
      "text/latex": [
       "\\[ \\left[ \\begin{array}{r}\\frac{\\left(t_{2} - t_{4}\\right) \\left(t_{3} - t_{4}\\right)}{\\left(t_{1} - t_{2}\\right) \\left(t_{1} - t_{3}\\right) \\left(t_{1} - t_{4}\\right)}\\\\- \\frac{\\left(t_{1} - t_{4}\\right) \\left(t_{3} - t_{4}\\right)}{\\left(t_{1} - t_{2}\\right) \\left(t_{2} - t_{3}\\right) \\left(t_{2} - t_{4}\\right)}\\\\\\frac{\\left(t_{1} - t_{4}\\right) \\left(t_{2} - t_{4}\\right)}{\\left(t_{1} - t_{3}\\right) \\left(t_{2} - t_{3}\\right) \\left(t_{3} - t_{4}\\right)}\\\\- \\frac{1}{t_{3} - t_{4}} - \\frac{1}{t_{2} - t_{4}} - \\frac{1}{t_{1} - t_{4}}\\end{array} \\right] \\]"
      ],
      "text/plain": [
       "4-element Array{Sym,1}:\n",
       "  (t2 - t4)*(t3 - t4)/((t1 - t2)*(t1 - t3)*(t1 - t4))\n",
       " -(t1 - t4)*(t3 - t4)/((t1 - t2)*(t2 - t3)*(t2 - t4))\n",
       "  (t1 - t4)*(t2 - t4)/((t1 - t3)*(t2 - t3)*(t3 - t4))\n",
       "             -1/(t3 - t4) - 1/(t2 - t4) - 1/(t1 - t4)"
      ]
     },
     "execution_count": 9,
     "metadata": {},
     "output_type": "execute_result"
    }
   ],
   "source": [
    "n = 3+1\n",
    "P = [ X[i]*l(t, i, n) for i in 1:n ] |> sum\n",
    "dP = diff(P,t) |> subs(t=>T[n])\n",
    "coeffList = [diff(dP, x) |> simplify for x in X[1:n] ]"
   ]
  },
  {
   "cell_type": "code",
   "execution_count": 10,
   "metadata": {},
   "outputs": [
    {
     "data": {
      "text/latex": [
       "\\[ \\left[ \\begin{array}{r}- \\frac{h \\left(h + h_{1}\\right)}{h_{0} \\left(h h_{0} + h h_{1} + h_{0}^{2} + 2 h_{0} h_{1} + h_{1}^{2}\\right)}\\\\\\frac{h \\left(h + h_{0} + h_{1}\\right)}{h_{0} h_{1} \\left(h + h_{1}\\right)}\\\\- \\frac{h^{2} + h h_{0} + 2 h h_{1} + h_{0} h_{1} + h_{1}^{2}}{h h_{1} \\left(h_{0} + h_{1}\\right)}\\\\\\frac{1}{h + h_{0} + h_{1}} + \\frac{1}{h + h_{1}} + \\frac{1}{h}\\end{array} \\right] \\]"
      ],
      "text/plain": [
       "4-element Array{Sym,1}:\n",
       " -h*(h + h1)/(h0*(h*h0 + h*h1 + h0^2 + 2*h0*h1 + h1^2))\n",
       "                       h*(h + h0 + h1)/(h0*h1*(h + h1))\n",
       " -(h^2 + h*h0 + 2*h*h1 + h0*h1 + h1^2)/(h*h1*(h0 + h1))\n",
       "                     1/(h + h0 + h1) + 1/(h + h1) + 1/h"
      ]
     },
     "execution_count": 10,
     "metadata": {},
     "output_type": "execute_result"
    }
   ],
   "source": [
    "@vars h h1 h0\n",
    "# h= t4 - t3; h1 = t3 - t2; h0 = t2 - t1\n",
    "hterms = [c |> subs( t4=> h + t3 ) |> subs( t3=> h1 + t2 ) |> subs( t2=> h0 + t1 ) |> expand |> simplify for c in coeffList ]"
   ]
  },
  {
   "cell_type": "code",
   "execution_count": 11,
   "metadata": {},
   "outputs": [
    {
     "name": "stdout",
     "output_type": "stream",
     "text": [
      "-h.*(h + h1)./(h0.*(h.*h0 + h.*h1 + h0.^2 + 2*h0.*h1 + h1.^2))\n"
     ]
    }
   ],
   "source": [
    "sympy.julia_code( hterms[1] ) |> println"
   ]
  },
  {
   "cell_type": "code",
   "execution_count": null,
   "metadata": {},
   "outputs": [],
   "source": []
  }
 ],
 "metadata": {
  "kernelspec": {
   "display_name": "Julia 1.4.0",
   "language": "julia",
   "name": "julia-1.4"
  },
  "language_info": {
   "file_extension": ".jl",
   "mimetype": "application/julia",
   "name": "julia",
   "version": "1.4.0"
  }
 },
 "nbformat": 4,
 "nbformat_minor": 4
}
